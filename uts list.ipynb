{
  "nbformat": 4,
  "nbformat_minor": 0,
  "metadata": {
    "colab": {
      "name": "Untitled1.ipynb",
      "provenance": [],
      "include_colab_link": true
    },
    "kernelspec": {
      "name": "python3",
      "display_name": "Python 3"
    }
  },
  "cells": [
    {
      "cell_type": "markdown",
      "metadata": {
        "id": "view-in-github",
        "colab_type": "text"
      },
      "source": [
        "<a href=\"https://colab.research.google.com/github/lutfiiwy/UTS-Dasar-Pemrograman/blob/main/uts%20list.ipynb\" target=\"_parent\"><img src=\"https://colab.research.google.com/assets/colab-badge.svg\" alt=\"Open In Colab\"/></a>"
      ]
    },
    {
      "cell_type": "code",
      "metadata": {
        "colab": {
          "base_uri": "https://localhost:8080/"
        },
        "id": "GirlMGS0SpL8",
        "outputId": "96f0f82c-95da-40ab-aedb-321afa882a7f"
      },
      "source": [
        "#Program Input Data Penjualan & Menghitung laba \r\n",
        "\r\n",
        "#Membuat list kosong yang akan di isikan\r\n",
        "Produk=[]\r\n",
        "Harga=[]\r\n",
        "\r\n",
        "a=0\r\n",
        "#Membuat pilihan\r\n",
        "while a==0:\r\n",
        "    print(\"Pilih Menu : \")\r\n",
        "    print(\"1. Input Data\")\r\n",
        "    print(\"2. Input Data dan Menghitung Laba\")\r\n",
        "    print()\r\n",
        "#Program utama    \r\n",
        "    pilih=int(input(\"Tentukan pilihan (1/2): \"))\r\n",
        "    if pilih==1:\r\n",
        "        barang=input(\"Barang : \")\r\n",
        "        harga=float(input(\"Harga :Rp. \"))\r\n",
        "        Produk.append([barang,harga])\r\n",
        "        p1=input(\"Input Data Lagi (y/t): \")\r\n",
        "        if p1==\"t\":\r\n",
        "           s=1\r\n",
        "    \r\n",
        "    if pilih==2:\r\n",
        "        n=0\r\n",
        "        while n==0:\r\n",
        "            def substract(x,y):\r\n",
        "                return y-x\r\n",
        "            barang=input(\"Barang :\")\r\n",
        "            x=float(input(\"Harga Beli :Rp. \"))\r\n",
        "            y=float(input(\"Harga Jual :Rp. \"))\r\n",
        "            print(\"Laba :Rp. \", substract(x,y))\r\n",
        "            Harga.append([barang, x, y])\r\n",
        "            p2=input(\"Input Data Nilai Lagi (y/t): \")\r\n",
        "            if p2==\"t\":\r\n",
        "                n=1\r\n",
        "\r\n",
        "      al = input(\"Apakah sudah selesai ? (y/t) : \")\r\n",
        "    if al==\"y\":\r\n",
        "        a=1\r\n",
        "        print(\" \")\r\n",
        "        print(\"Selesai\")\r\n",
        "                          "
      ],
      "execution_count": null,
      "outputs": [
        {
          "output_type": "stream",
          "text": [
            "Pilih Menu : \n",
            "1. Input Data\n",
            "2. Input Data dan Menghitung Laba\n",
            "\n"
          ],
          "name": "stdout"
        }
      ]
    }
  ]
}
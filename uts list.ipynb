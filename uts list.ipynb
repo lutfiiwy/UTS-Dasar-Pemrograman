{
  "nbformat": 4,
  "nbformat_minor": 0,
  "metadata": {
    "colab": {
      "name": "Untitled1.ipynb",
      "provenance": [],
      "authorship_tag": "ABX9TyOSU6mL3/BD031isy8CMAN5",
      "include_colab_link": true
    },
    "kernelspec": {
      "name": "python3",
      "display_name": "Python 3"
    }
  },
  "cells": [
    {
      "cell_type": "markdown",
      "metadata": {
        "id": "view-in-github",
        "colab_type": "text"
      },
      "source": [
        "<a href=\"https://colab.research.google.com/github/lutfiiwy/UTS-Dasar-Pemrograman/blob/main/uts%20list.ipynb\" target=\"_parent\"><img src=\"https://colab.research.google.com/assets/colab-badge.svg\" alt=\"Open In Colab\"/></a>"
      ]
    },
    {
      "cell_type": "code",
      "metadata": {
        "colab": {
          "base_uri": "https://localhost:8080/"
        },
        "id": "GirlMGS0SpL8",
        "outputId": "b2a8d22c-3079-4c8c-e7b2-b5b806685fd4"
      },
      "source": [
        "listSiswa=[]\r\n",
        "listNilai=[]\r\n",
        "a=0\r\n",
        "while a==0:\r\n",
        "    print(\"Pilih Menu : \")\r\n",
        "    print(\"1. Input Data Siswa\")\r\n",
        "    print(\"2. Input Nilai Siswa\")\r\n",
        "    print()\r\n",
        "    \r\n",
        "    pilih=int(input(\"Tentukan pilihan (1/2): \"))\r\n",
        "    if pilih==1:\r\n",
        "        nim=input()\r\n",
        "        nama=input()\r\n",
        "        tahun=input()\r\n",
        "        listSiswa.append([nim, nama, tahun])\r\n",
        "        p1=input(\"Input Data Siswa Lagi (y/t): \")\r\n",
        "        if p1==\"t\":\r\n",
        "           s=1\r\n",
        "        \r\n",
        "    if pilih==2:\r\n",
        "        n=0\r\n",
        "        while n==0:\r\n",
        "            nim=input()\r\n",
        "            nilai=input()\r\n",
        "            listNilai.append([nim, nilai])\r\n",
        "            p2=input(\"Input Data Nilai Lagi (y/t): \")\r\n",
        "            if p2==\"t\":\r\n",
        "                n=1"
      ],
      "execution_count": null,
      "outputs": [
        {
          "output_type": "stream",
          "text": [
            "Pilih Menu : \n",
            "1. Input Data Siswa\n",
            "2. Input Nilai Siswa\n",
            "\n"
          ],
          "name": "stdout"
        }
      ]
    }
  ]
}